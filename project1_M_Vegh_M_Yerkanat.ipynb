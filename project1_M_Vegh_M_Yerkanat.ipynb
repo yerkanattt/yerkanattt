{
 "cells": [
  {
   "cell_type": "code",
   "execution_count": 68,
   "id": "7pXD9-bVmGH1",
   "metadata": {
    "colab": {
     "base_uri": "https://localhost:8080/"
    },
    "id": "7pXD9-bVmGH1",
    "outputId": "25cccb93-55db-4588-f38e-7e99a89149a5"
   },
   "outputs": [
    {
     "ename": "ModuleNotFoundError",
     "evalue": "No module named 'google'",
     "output_type": "error",
     "traceback": [
      "\u001b[1;31m---------------------------------------------------------------------------\u001b[0m",
      "\u001b[1;31mModuleNotFoundError\u001b[0m                       Traceback (most recent call last)",
      "\u001b[1;32m~\\AppData\\Local\\Temp/ipykernel_7028/1408506528.py\u001b[0m in \u001b[0;36m<module>\u001b[1;34m\u001b[0m\n\u001b[1;32m----> 1\u001b[1;33m \u001b[1;32mfrom\u001b[0m \u001b[0mgoogle\u001b[0m\u001b[1;33m.\u001b[0m\u001b[0mcolab\u001b[0m \u001b[1;32mimport\u001b[0m \u001b[0mdrive\u001b[0m\u001b[1;33m\u001b[0m\u001b[1;33m\u001b[0m\u001b[0m\n\u001b[0m\u001b[0;32m      2\u001b[0m \u001b[0mdrive\u001b[0m\u001b[1;33m.\u001b[0m\u001b[0mmount\u001b[0m\u001b[1;33m(\u001b[0m\u001b[1;34m'/content/drive'\u001b[0m\u001b[1;33m)\u001b[0m\u001b[1;33m\u001b[0m\u001b[1;33m\u001b[0m\u001b[0m\n",
      "\u001b[1;31mModuleNotFoundError\u001b[0m: No module named 'google'"
     ]
    }
   ],
   "source": [
    "from google.colab import drive\n",
    "drive.mount('/content/drive')"
   ]
  },
  {
   "cell_type": "code",
   "execution_count": 69,
   "id": "Gh7saUd1ojsy",
   "metadata": {
    "colab": {
     "base_uri": "https://localhost:8080/",
     "height": 35
    },
    "id": "Gh7saUd1ojsy",
    "outputId": "46e482ad-ef3a-4215-a21d-333c9504f198"
   },
   "outputs": [
    {
     "data": {
      "text/plain": [
       "'C:\\\\Users\\\\molda\\\\Downloads'"
      ]
     },
     "execution_count": 69,
     "metadata": {},
     "output_type": "execute_result"
    }
   ],
   "source": [
    "pwd"
   ]
  },
  {
   "cell_type": "code",
   "execution_count": 70,
   "id": "4a5ef434",
   "metadata": {
    "id": "4a5ef434"
   },
   "outputs": [],
   "source": [
    "import numpy as np"
   ]
  },
  {
   "cell_type": "code",
   "execution_count": 71,
   "id": "cf19472a",
   "metadata": {
    "colab": {
     "base_uri": "https://localhost:8080/",
     "height": 380
    },
    "id": "cf19472a",
    "outputId": "bb209e46-c059-4710-e3b4-a6fd0db4ea8e"
   },
   "outputs": [
    {
     "data": {
      "text/html": [
       "<div>\n",
       "<style scoped>\n",
       "    .dataframe tbody tr th:only-of-type {\n",
       "        vertical-align: middle;\n",
       "    }\n",
       "\n",
       "    .dataframe tbody tr th {\n",
       "        vertical-align: top;\n",
       "    }\n",
       "\n",
       "    .dataframe thead th {\n",
       "        text-align: right;\n",
       "    }\n",
       "</style>\n",
       "<table border=\"1\" class=\"dataframe\">\n",
       "  <thead>\n",
       "    <tr style=\"text-align: right;\">\n",
       "      <th></th>\n",
       "      <th>PassengerId</th>\n",
       "      <th>Survived</th>\n",
       "      <th>Pclass</th>\n",
       "      <th>Name</th>\n",
       "      <th>Sex</th>\n",
       "      <th>Age</th>\n",
       "      <th>SibSp</th>\n",
       "      <th>Parch</th>\n",
       "      <th>Ticket</th>\n",
       "      <th>Fare</th>\n",
       "      <th>Cabin</th>\n",
       "      <th>Embarked</th>\n",
       "      <th>cabin_missing</th>\n",
       "    </tr>\n",
       "  </thead>\n",
       "  <tbody>\n",
       "    <tr>\n",
       "      <th>0</th>\n",
       "      <td>1</td>\n",
       "      <td>0</td>\n",
       "      <td>3</td>\n",
       "      <td>Braund, Mr. Owen Harris</td>\n",
       "      <td>male</td>\n",
       "      <td>22.0</td>\n",
       "      <td>1</td>\n",
       "      <td>0</td>\n",
       "      <td>A/5 21171</td>\n",
       "      <td>7.2500</td>\n",
       "      <td>NaN</td>\n",
       "      <td>S</td>\n",
       "      <td>True</td>\n",
       "    </tr>\n",
       "    <tr>\n",
       "      <th>1</th>\n",
       "      <td>2</td>\n",
       "      <td>1</td>\n",
       "      <td>1</td>\n",
       "      <td>Cumings, Mrs. John Bradley (Florence Briggs Th...</td>\n",
       "      <td>female</td>\n",
       "      <td>38.0</td>\n",
       "      <td>1</td>\n",
       "      <td>0</td>\n",
       "      <td>PC 17599</td>\n",
       "      <td>71.2833</td>\n",
       "      <td>C85</td>\n",
       "      <td>C</td>\n",
       "      <td>False</td>\n",
       "    </tr>\n",
       "    <tr>\n",
       "      <th>2</th>\n",
       "      <td>3</td>\n",
       "      <td>1</td>\n",
       "      <td>3</td>\n",
       "      <td>Heikkinen, Miss. Laina</td>\n",
       "      <td>female</td>\n",
       "      <td>26.0</td>\n",
       "      <td>0</td>\n",
       "      <td>0</td>\n",
       "      <td>STON/O2. 3101282</td>\n",
       "      <td>7.9250</td>\n",
       "      <td>NaN</td>\n",
       "      <td>S</td>\n",
       "      <td>True</td>\n",
       "    </tr>\n",
       "    <tr>\n",
       "      <th>3</th>\n",
       "      <td>4</td>\n",
       "      <td>1</td>\n",
       "      <td>1</td>\n",
       "      <td>Futrelle, Mrs. Jacques Heath (Lily May Peel)</td>\n",
       "      <td>female</td>\n",
       "      <td>35.0</td>\n",
       "      <td>1</td>\n",
       "      <td>0</td>\n",
       "      <td>113803</td>\n",
       "      <td>53.1000</td>\n",
       "      <td>C123</td>\n",
       "      <td>S</td>\n",
       "      <td>False</td>\n",
       "    </tr>\n",
       "    <tr>\n",
       "      <th>4</th>\n",
       "      <td>5</td>\n",
       "      <td>0</td>\n",
       "      <td>3</td>\n",
       "      <td>Allen, Mr. William Henry</td>\n",
       "      <td>male</td>\n",
       "      <td>35.0</td>\n",
       "      <td>0</td>\n",
       "      <td>0</td>\n",
       "      <td>373450</td>\n",
       "      <td>8.0500</td>\n",
       "      <td>NaN</td>\n",
       "      <td>S</td>\n",
       "      <td>True</td>\n",
       "    </tr>\n",
       "  </tbody>\n",
       "</table>\n",
       "</div>"
      ],
      "text/plain": [
       "   PassengerId  Survived  Pclass  \\\n",
       "0            1         0       3   \n",
       "1            2         1       1   \n",
       "2            3         1       3   \n",
       "3            4         1       1   \n",
       "4            5         0       3   \n",
       "\n",
       "                                                Name     Sex   Age  SibSp  \\\n",
       "0                            Braund, Mr. Owen Harris    male  22.0      1   \n",
       "1  Cumings, Mrs. John Bradley (Florence Briggs Th...  female  38.0      1   \n",
       "2                             Heikkinen, Miss. Laina  female  26.0      0   \n",
       "3       Futrelle, Mrs. Jacques Heath (Lily May Peel)  female  35.0      1   \n",
       "4                           Allen, Mr. William Henry    male  35.0      0   \n",
       "\n",
       "   Parch            Ticket     Fare Cabin Embarked  cabin_missing  \n",
       "0      0         A/5 21171   7.2500   NaN        S           True  \n",
       "1      0          PC 17599  71.2833   C85        C          False  \n",
       "2      0  STON/O2. 3101282   7.9250   NaN        S           True  \n",
       "3      0            113803  53.1000  C123        S          False  \n",
       "4      0            373450   8.0500   NaN        S           True  "
      ]
     },
     "execution_count": 71,
     "metadata": {},
     "output_type": "execute_result"
    }
   ],
   "source": [
    "import pandas as pd\n",
    "import seaborn as sns\n",
    "train = pd.read_csv('train.csv')\n",
    "train[\"Age\"] = train.groupby(['Sex', 'Pclass'])['Age'].transform(lambda x: x.fillna(x.mean()))\n",
    "train['cabin_missing'] = True\n",
    "train.loc[pd.isna(train['Cabin']) == False, \"cabin_missing\"] = False\n",
    "train.head()"
   ]
  },
  {
   "cell_type": "markdown",
   "id": "7e76b9c3",
   "metadata": {
    "id": "7e76b9c3"
   },
   "source": [
    "1. Engineer at least two more features to include in your model (Examples are: https://triangleinequality.wordpress.com/2013/09/08/basic-feature-engineering-with-the-titanic-data/). For each feature perform visualizations and interpret them."
   ]
  },
  {
   "cell_type": "code",
   "execution_count": 72,
   "id": "71f97a4a",
   "metadata": {
    "colab": {
     "base_uri": "https://localhost:8080/",
     "height": 548
    },
    "id": "71f97a4a",
    "outputId": "51764271-2bdf-48fd-d125-a66310c3e667"
   },
   "outputs": [
    {
     "data": {
      "text/html": [
       "<div>\n",
       "<style scoped>\n",
       "    .dataframe tbody tr th:only-of-type {\n",
       "        vertical-align: middle;\n",
       "    }\n",
       "\n",
       "    .dataframe tbody tr th {\n",
       "        vertical-align: top;\n",
       "    }\n",
       "\n",
       "    .dataframe thead th {\n",
       "        text-align: right;\n",
       "    }\n",
       "</style>\n",
       "<table border=\"1\" class=\"dataframe\">\n",
       "  <thead>\n",
       "    <tr style=\"text-align: right;\">\n",
       "      <th></th>\n",
       "      <th>PassengerId</th>\n",
       "      <th>Survived</th>\n",
       "      <th>Pclass</th>\n",
       "      <th>Name</th>\n",
       "      <th>Sex</th>\n",
       "      <th>Age</th>\n",
       "      <th>SibSp</th>\n",
       "      <th>Parch</th>\n",
       "      <th>Ticket</th>\n",
       "      <th>Fare</th>\n",
       "      <th>Cabin</th>\n",
       "      <th>Embarked</th>\n",
       "      <th>cabin_missing</th>\n",
       "      <th>relatives</th>\n",
       "      <th>alone</th>\n",
       "      <th>married_woman</th>\n",
       "      <th>Deck</th>\n",
       "    </tr>\n",
       "  </thead>\n",
       "  <tbody>\n",
       "    <tr>\n",
       "      <th>0</th>\n",
       "      <td>1</td>\n",
       "      <td>0</td>\n",
       "      <td>3</td>\n",
       "      <td>Braund, Mr. Owen Harris</td>\n",
       "      <td>male</td>\n",
       "      <td>22.0</td>\n",
       "      <td>1</td>\n",
       "      <td>0</td>\n",
       "      <td>A/5 21171</td>\n",
       "      <td>7.2500</td>\n",
       "      <td>NaN</td>\n",
       "      <td>S</td>\n",
       "      <td>True</td>\n",
       "      <td>1</td>\n",
       "      <td>False</td>\n",
       "      <td>no</td>\n",
       "      <td>NaN</td>\n",
       "    </tr>\n",
       "    <tr>\n",
       "      <th>1</th>\n",
       "      <td>2</td>\n",
       "      <td>1</td>\n",
       "      <td>1</td>\n",
       "      <td>Cumings, Mrs. John Bradley (Florence Briggs Th...</td>\n",
       "      <td>female</td>\n",
       "      <td>38.0</td>\n",
       "      <td>1</td>\n",
       "      <td>0</td>\n",
       "      <td>PC 17599</td>\n",
       "      <td>71.2833</td>\n",
       "      <td>C85</td>\n",
       "      <td>C</td>\n",
       "      <td>False</td>\n",
       "      <td>1</td>\n",
       "      <td>False</td>\n",
       "      <td>yes</td>\n",
       "      <td>C</td>\n",
       "    </tr>\n",
       "    <tr>\n",
       "      <th>2</th>\n",
       "      <td>3</td>\n",
       "      <td>1</td>\n",
       "      <td>3</td>\n",
       "      <td>Heikkinen, Miss. Laina</td>\n",
       "      <td>female</td>\n",
       "      <td>26.0</td>\n",
       "      <td>0</td>\n",
       "      <td>0</td>\n",
       "      <td>STON/O2. 3101282</td>\n",
       "      <td>7.9250</td>\n",
       "      <td>NaN</td>\n",
       "      <td>S</td>\n",
       "      <td>True</td>\n",
       "      <td>0</td>\n",
       "      <td>True</td>\n",
       "      <td>no</td>\n",
       "      <td>NaN</td>\n",
       "    </tr>\n",
       "    <tr>\n",
       "      <th>3</th>\n",
       "      <td>4</td>\n",
       "      <td>1</td>\n",
       "      <td>1</td>\n",
       "      <td>Futrelle, Mrs. Jacques Heath (Lily May Peel)</td>\n",
       "      <td>female</td>\n",
       "      <td>35.0</td>\n",
       "      <td>1</td>\n",
       "      <td>0</td>\n",
       "      <td>113803</td>\n",
       "      <td>53.1000</td>\n",
       "      <td>C123</td>\n",
       "      <td>S</td>\n",
       "      <td>False</td>\n",
       "      <td>1</td>\n",
       "      <td>False</td>\n",
       "      <td>yes</td>\n",
       "      <td>C</td>\n",
       "    </tr>\n",
       "    <tr>\n",
       "      <th>4</th>\n",
       "      <td>5</td>\n",
       "      <td>0</td>\n",
       "      <td>3</td>\n",
       "      <td>Allen, Mr. William Henry</td>\n",
       "      <td>male</td>\n",
       "      <td>35.0</td>\n",
       "      <td>0</td>\n",
       "      <td>0</td>\n",
       "      <td>373450</td>\n",
       "      <td>8.0500</td>\n",
       "      <td>NaN</td>\n",
       "      <td>S</td>\n",
       "      <td>True</td>\n",
       "      <td>0</td>\n",
       "      <td>True</td>\n",
       "      <td>no</td>\n",
       "      <td>NaN</td>\n",
       "    </tr>\n",
       "  </tbody>\n",
       "</table>\n",
       "</div>"
      ],
      "text/plain": [
       "   PassengerId  Survived  Pclass  \\\n",
       "0            1         0       3   \n",
       "1            2         1       1   \n",
       "2            3         1       3   \n",
       "3            4         1       1   \n",
       "4            5         0       3   \n",
       "\n",
       "                                                Name     Sex   Age  SibSp  \\\n",
       "0                            Braund, Mr. Owen Harris    male  22.0      1   \n",
       "1  Cumings, Mrs. John Bradley (Florence Briggs Th...  female  38.0      1   \n",
       "2                             Heikkinen, Miss. Laina  female  26.0      0   \n",
       "3       Futrelle, Mrs. Jacques Heath (Lily May Peel)  female  35.0      1   \n",
       "4                           Allen, Mr. William Henry    male  35.0      0   \n",
       "\n",
       "   Parch            Ticket     Fare Cabin Embarked  cabin_missing  relatives  \\\n",
       "0      0         A/5 21171   7.2500   NaN        S           True          1   \n",
       "1      0          PC 17599  71.2833   C85        C          False          1   \n",
       "2      0  STON/O2. 3101282   7.9250   NaN        S           True          0   \n",
       "3      0            113803  53.1000  C123        S          False          1   \n",
       "4      0            373450   8.0500   NaN        S           True          0   \n",
       "\n",
       "   alone married_woman Deck  \n",
       "0  False            no  NaN  \n",
       "1  False           yes    C  \n",
       "2   True            no  NaN  \n",
       "3  False           yes    C  \n",
       "4   True            no  NaN  "
      ]
     },
     "execution_count": 72,
     "metadata": {},
     "output_type": "execute_result"
    }
   ],
   "source": [
    "train['relatives']=train['SibSp']+train['Parch']\n",
    "train['alone']=(train['relatives']==0)\n",
    "train[\"married_woman\"] = \"no\"\n",
    "train.loc[(train['Name'].str.contains(\"\\(\") == True), \"married_woman\"] = 'yes'\n",
    "train['Deck']=train['Cabin'].str.split(\"(\\w)\", n=1, expand=True)[1]\n",
    "train.head()"
   ]
  },
  {
   "cell_type": "code",
   "execution_count": 73,
   "id": "34e37964",
   "metadata": {
    "colab": {
     "base_uri": "https://localhost:8080/",
     "height": 296
    },
    "id": "34e37964",
    "outputId": "689a6cca-79bc-4ccb-d0ef-27a23f8e73ce"
   },
   "outputs": [
    {
     "data": {
      "text/plain": [
       "<AxesSubplot:xlabel='relatives', ylabel='count'>"
      ]
     },
     "execution_count": 73,
     "metadata": {},
     "output_type": "execute_result"
    },
    {
     "data": {
      "image/png": "[encoded data removed]",
      "text/plain": [
       "<Figure size 432x288 with 1 Axes>"
      ]
     },
     "metadata": {
      "needs_background": "light"
     },
     "output_type": "display_data"
    }
   ],
   "source": [
    "sns.countplot(x='relatives',  data=train, palette='BuPu_r')"
   ]
  },
  {
   "cell_type": "code",
   "execution_count": 74,
   "id": "3d2e82d6",
   "metadata": {
    "colab": {
     "base_uri": "https://localhost:8080/",
     "height": 296
    },
    "id": "3d2e82d6",
    "outputId": "62b85ea0-24fb-4154-f37c-40d30dea37d7"
   },
   "outputs": [
    {
     "data": {
      "text/plain": [
       "<AxesSubplot:xlabel='alone', ylabel='count'>"
      ]
     },
     "execution_count": 74,
     "metadata": {},
     "output_type": "execute_result"
    },
    {
     "data": {
      "image/png": "[encoded data removed]",
      "text/plain": [
       "<Figure size 432x288 with 1 Axes>"
      ]
     },
     "metadata": {
      "needs_background": "light"
     },
     "output_type": "display_data"
    }
   ],
   "source": [
    "sns.countplot(x='alone',data=train, palette='BuPu_r')"
   ]
  },
  {
   "cell_type": "code",
   "execution_count": 75,
   "id": "f40379fc",
   "metadata": {
    "id": "f40379fc",
    "outputId": "2538fe71-d60a-4961-92a1-40758ceb90a7"
   },
   "outputs": [
    {
     "data": {
      "text/plain": [
       "<AxesSubplot:xlabel='married_woman', ylabel='count'>"
      ]
     },
     "execution_count": 75,
     "metadata": {},
     "output_type": "execute_result"
    },
    {
     "data": {
      "image/png": "[encoded data removed]",
      "text/plain": [
       "<Figure size 432x288 with 1 Axes>"
      ]
     },
     "metadata": {
      "needs_background": "light"
     },
     "output_type": "display_data"
    }
   ],
   "source": [
    "sns.countplot(x='married_woman',data=train, palette='BuPu_r')"
   ]
  },
  {
   "cell_type": "code",
   "execution_count": 76,
   "id": "myWh4YlIm2Oh",
   "metadata": {
    "id": "myWh4YlIm2Oh"
   },
   "outputs": [
    {
     "data": {
      "text/plain": [
       "<AxesSubplot:xlabel='Deck', ylabel='count'>"
      ]
     },
     "execution_count": 76,
     "metadata": {},
     "output_type": "execute_result"
    },
    {
     "data": {
      "image/png": "[encoded data removed]",
      "text/plain": [
       "<Figure size 432x288 with 1 Axes>"
      ]
     },
     "metadata": {
      "needs_background": "light"
     },
     "output_type": "display_data"
    }
   ],
   "source": [
    "sns.countplot(x='Deck',data=train, palette='BuPu_r')"
   ]
  },
  {
   "cell_type": "markdown",
   "id": "14092ccd",
   "metadata": {
    "id": "14092ccd"
   },
   "source": [
    "2. Can you think of possible interactions and polynomials potentially relevant for your model? If yes, do so."
   ]
  },
  {
   "cell_type": "code",
   "execution_count": 77,
   "id": "9127e5f7",
   "metadata": {
    "id": "9127e5f7"
   },
   "outputs": [],
   "source": [
    "train['Age_poly2'] = train['Age']**2\n",
    "train['Age_poly3'] = train['Age']**3"
   ]
  },
  {
   "cell_type": "code",
   "execution_count": 78,
   "id": "5MzqJS83m5WR",
   "metadata": {
    "id": "5MzqJS83m5WR"
   },
   "outputs": [],
   "source": [
    "train['Age*Pclass']=train['Age']*train['Pclass']\n",
    "train['Fare_Per_Person']=train['Fare']/(train['relatives']+1)"
   ]
  },
  {
   "cell_type": "code",
   "execution_count": 79,
   "id": "yF_e_Sanm-Xv",
   "metadata": {
    "id": "yF_e_Sanm-Xv"
   },
   "outputs": [
    {
     "name": "stderr",
     "output_type": "stream",
     "text": [
      "D:\\anaconda\\lib\\site-packages\\seaborn\\distributions.py:2619: FutureWarning: `distplot` is a deprecated function and will be removed in a future version. Please adapt your code to use either `displot` (a figure-level function with similar flexibility) or `histplot` (an axes-level function for histograms).\n",
      "  warnings.warn(msg, FutureWarning)\n"
     ]
    },
    {
     "data": {
      "text/plain": [
       "<AxesSubplot:xlabel='Fare_Per_Person'>"
      ]
     },
     "execution_count": 79,
     "metadata": {},
     "output_type": "execute_result"
    },
    {
     "data": {
      "image/png": "[encoded data removed]",
      "text/plain": [
       "<Figure size 432x288 with 1 Axes>"
      ]
     },
     "metadata": {
      "needs_background": "light"
     },
     "output_type": "display_data"
    }
   ],
   "source": [
    "sns.distplot(train['Fare_Per_Person'], color='navy', bins=50, kde=False)"
   ]
  },
  {
   "cell_type": "markdown",
   "id": "805b51f1",
   "metadata": {
    "id": "805b51f1"
   },
   "source": [
    "3. Include the new features --generated in 1 and  2 -- in your model. Does your model improve? What measures did you use to determine this? Interpret coefficients. Do the signs of the coefficients make sense? Why and why not? "
   ]
  },
  {
   "cell_type": "code",
   "execution_count": 80,
   "id": "b39407a2",
   "metadata": {
    "id": "b39407a2",
    "outputId": "cfbeea3d-5375-4dfa-c10a-903e378d87da"
   },
   "outputs": [
    {
     "data": {
      "text/html": [
       "<div>\n",
       "<style scoped>\n",
       "    .dataframe tbody tr th:only-of-type {\n",
       "        vertical-align: middle;\n",
       "    }\n",
       "\n",
       "    .dataframe tbody tr th {\n",
       "        vertical-align: top;\n",
       "    }\n",
       "\n",
       "    .dataframe thead th {\n",
       "        text-align: right;\n",
       "    }\n",
       "</style>\n",
       "<table border=\"1\" class=\"dataframe\">\n",
       "  <thead>\n",
       "    <tr style=\"text-align: right;\">\n",
       "      <th></th>\n",
       "      <th>Survived</th>\n",
       "      <th>Age</th>\n",
       "      <th>SibSp</th>\n",
       "      <th>Parch</th>\n",
       "      <th>Fare</th>\n",
       "      <th>cabin_missing</th>\n",
       "      <th>relatives</th>\n",
       "      <th>Age_poly2</th>\n",
       "      <th>Age_poly3</th>\n",
       "      <th>Age*Pclass</th>\n",
       "      <th>...</th>\n",
       "      <th>3</th>\n",
       "      <th>B</th>\n",
       "      <th>C</th>\n",
       "      <th>D</th>\n",
       "      <th>E</th>\n",
       "      <th>F</th>\n",
       "      <th>G</th>\n",
       "      <th>T</th>\n",
       "      <th>yes</th>\n",
       "      <th>True</th>\n",
       "    </tr>\n",
       "  </thead>\n",
       "  <tbody>\n",
       "    <tr>\n",
       "      <th>0</th>\n",
       "      <td>0</td>\n",
       "      <td>22.0</td>\n",
       "      <td>1</td>\n",
       "      <td>0</td>\n",
       "      <td>7.2500</td>\n",
       "      <td>True</td>\n",
       "      <td>1</td>\n",
       "      <td>484.0</td>\n",
       "      <td>10648.0</td>\n",
       "      <td>66.0</td>\n",
       "      <td>...</td>\n",
       "      <td>1</td>\n",
       "      <td>0</td>\n",
       "      <td>0</td>\n",
       "      <td>0</td>\n",
       "      <td>0</td>\n",
       "      <td>0</td>\n",
       "      <td>0</td>\n",
       "      <td>0</td>\n",
       "      <td>0</td>\n",
       "      <td>0</td>\n",
       "    </tr>\n",
       "    <tr>\n",
       "      <th>1</th>\n",
       "      <td>1</td>\n",
       "      <td>38.0</td>\n",
       "      <td>1</td>\n",
       "      <td>0</td>\n",
       "      <td>71.2833</td>\n",
       "      <td>False</td>\n",
       "      <td>1</td>\n",
       "      <td>1444.0</td>\n",
       "      <td>54872.0</td>\n",
       "      <td>38.0</td>\n",
       "      <td>...</td>\n",
       "      <td>0</td>\n",
       "      <td>0</td>\n",
       "      <td>1</td>\n",
       "      <td>0</td>\n",
       "      <td>0</td>\n",
       "      <td>0</td>\n",
       "      <td>0</td>\n",
       "      <td>0</td>\n",
       "      <td>1</td>\n",
       "      <td>0</td>\n",
       "    </tr>\n",
       "    <tr>\n",
       "      <th>2</th>\n",
       "      <td>1</td>\n",
       "      <td>26.0</td>\n",
       "      <td>0</td>\n",
       "      <td>0</td>\n",
       "      <td>7.9250</td>\n",
       "      <td>True</td>\n",
       "      <td>0</td>\n",
       "      <td>676.0</td>\n",
       "      <td>17576.0</td>\n",
       "      <td>78.0</td>\n",
       "      <td>...</td>\n",
       "      <td>1</td>\n",
       "      <td>0</td>\n",
       "      <td>0</td>\n",
       "      <td>0</td>\n",
       "      <td>0</td>\n",
       "      <td>0</td>\n",
       "      <td>0</td>\n",
       "      <td>0</td>\n",
       "      <td>0</td>\n",
       "      <td>1</td>\n",
       "    </tr>\n",
       "    <tr>\n",
       "      <th>3</th>\n",
       "      <td>1</td>\n",
       "      <td>35.0</td>\n",
       "      <td>1</td>\n",
       "      <td>0</td>\n",
       "      <td>53.1000</td>\n",
       "      <td>False</td>\n",
       "      <td>1</td>\n",
       "      <td>1225.0</td>\n",
       "      <td>42875.0</td>\n",
       "      <td>35.0</td>\n",
       "      <td>...</td>\n",
       "      <td>0</td>\n",
       "      <td>0</td>\n",
       "      <td>1</td>\n",
       "      <td>0</td>\n",
       "      <td>0</td>\n",
       "      <td>0</td>\n",
       "      <td>0</td>\n",
       "      <td>0</td>\n",
       "      <td>1</td>\n",
       "      <td>0</td>\n",
       "    </tr>\n",
       "    <tr>\n",
       "      <th>4</th>\n",
       "      <td>0</td>\n",
       "      <td>35.0</td>\n",
       "      <td>0</td>\n",
       "      <td>0</td>\n",
       "      <td>8.0500</td>\n",
       "      <td>True</td>\n",
       "      <td>0</td>\n",
       "      <td>1225.0</td>\n",
       "      <td>42875.0</td>\n",
       "      <td>105.0</td>\n",
       "      <td>...</td>\n",
       "      <td>1</td>\n",
       "      <td>0</td>\n",
       "      <td>0</td>\n",
       "      <td>0</td>\n",
       "      <td>0</td>\n",
       "      <td>0</td>\n",
       "      <td>0</td>\n",
       "      <td>0</td>\n",
       "      <td>0</td>\n",
       "      <td>1</td>\n",
       "    </tr>\n",
       "  </tbody>\n",
       "</table>\n",
       "<p>5 rows × 25 columns</p>\n",
       "</div>"
      ],
      "text/plain": [
       "   Survived   Age  SibSp  Parch     Fare  cabin_missing  relatives  Age_poly2  \\\n",
       "0         0  22.0      1      0   7.2500           True          1      484.0   \n",
       "1         1  38.0      1      0  71.2833          False          1     1444.0   \n",
       "2         1  26.0      0      0   7.9250           True          0      676.0   \n",
       "3         1  35.0      1      0  53.1000          False          1     1225.0   \n",
       "4         0  35.0      0      0   8.0500           True          0     1225.0   \n",
       "\n",
       "   Age_poly3  Age*Pclass  ...  3  B  C  D  E  F  G  T  yes  True  \n",
       "0    10648.0        66.0  ...  1  0  0  0  0  0  0  0    0     0  \n",
       "1    54872.0        38.0  ...  0  0  1  0  0  0  0  0    1     0  \n",
       "2    17576.0        78.0  ...  1  0  0  0  0  0  0  0    0     1  \n",
       "3    42875.0        35.0  ...  0  0  1  0  0  0  0  0    1     0  \n",
       "4    42875.0       105.0  ...  1  0  0  0  0  0  0  0    0     1  \n",
       "\n",
       "[5 rows x 25 columns]"
      ]
     },
     "execution_count": 80,
     "metadata": {},
     "output_type": "execute_result"
    }
   ],
   "source": [
    "sex = pd.get_dummies(train['Sex'], drop_first=True)\n",
    "embark = pd.get_dummies(train['Embarked'], drop_first=True)\n",
    "pclass = pd.get_dummies(train['Pclass'], drop_first=True)\n",
    "marriedw = pd.get_dummies(train['married_woman'], drop_first=True)\n",
    "alone_d = pd.get_dummies(train['alone'], drop_first=True)\n",
    "deck = pd.get_dummies(train['Deck'], drop_first=True)\n",
    "\n",
    "train.drop(['Sex','Embarked','Name','Ticket', 'PassengerId', 'Pclass', 'Deck', 'Cabin','married_woman',\"alone\"], axis=1, inplace=True)\n",
    "train = pd.concat([train, sex, embark, pclass,deck, marriedw,alone_d], axis=1)\n",
    "train.head()"
   ]
  },
  {
   "cell_type": "code",
   "execution_count": 81,
   "id": "yCZnfNHEnYCt",
   "metadata": {
    "id": "yCZnfNHEnYCt"
   },
   "outputs": [
    {
     "data": {
      "text/plain": [
       "Index([       'Survived',             'Age',           'SibSp',\n",
       "                 'Parch',            'Fare',   'cabin_missing',\n",
       "             'relatives',       'Age_poly2',       'Age_poly3',\n",
       "            'Age*Pclass', 'Fare_Per_Person',            'male',\n",
       "                     'Q',               'S',                 2,\n",
       "                       3,               'B',               'C',\n",
       "                     'D',               'E',               'F',\n",
       "                     'G',               'T',             'yes',\n",
       "                    True],\n",
       "      dtype='object')"
      ]
     },
     "execution_count": 81,
     "metadata": {},
     "output_type": "execute_result"
    }
   ],
   "source": [
    "train.columns"
   ]
  },
  {
   "cell_type": "code",
   "execution_count": 82,
   "id": "0NoTqzYonaJq",
   "metadata": {
    "id": "0NoTqzYonaJq"
   },
   "outputs": [],
   "source": [
    "train = train.rename(columns={'Q':\"Queenstown\", 'S':\"Southampton\", 2: \"second_class\", 3: \"third_class\", 'yes': \"married_woman\", True: \"alone\"})"
   ]
  },
  {
   "cell_type": "code",
   "execution_count": 83,
   "id": "CxBb4tIcnbj7",
   "metadata": {
    "id": "CxBb4tIcnbj7"
   },
   "outputs": [
    {
     "data": {
      "text/plain": [
       "Index(['Survived', 'Age', 'SibSp', 'Parch', 'Fare', 'cabin_missing',\n",
       "       'relatives', 'Age_poly2', 'Age_poly3', 'Age*Pclass', 'Fare_Per_Person',\n",
       "       'male', 'Queenstown', 'Southampton', 'second_class', 'third_class', 'B',\n",
       "       'C', 'D', 'E', 'F', 'G', 'T', 'married_woman', 'alone'],\n",
       "      dtype='object')"
      ]
     },
     "execution_count": 83,
     "metadata": {},
     "output_type": "execute_result"
    }
   ],
   "source": [
    "train.columns"
   ]
  },
  {
   "cell_type": "markdown",
   "id": "SSnd9VvEnda7",
   "metadata": {
    "id": "SSnd9VvEnda7"
   },
   "source": [
    "Survived is a binary variable which is 1 if the passender survived, 0 if did not. <br>Age is a continuous variable, with minimum of 0.42 and maximum of 80 in train data. The distribution of this variable is peaked at around 27 years, and smoothly falling afterwards. There were more very small children than that of 10-12 year olds. <br> SibSp is a discrete variable, which represents the number of (siblings+spouse) onboard, it is zero if a passenger did not have spouse nor siblings onboard. <br> Parch is also discrete variable, which represents the number of (Parents+children) onboard, it is zero if a passenger did not have his/her parents nor children onboard. <br> Fare is a continuous variable, with minimum of 0 and maximum of 512.3292. It represents the price of the ticket sold to a traveling group, i.e. it is not the price per passenger but for the group. The distribution of this variable is skewed right with a lot of passengers paying zero price and smoothly falling afterwards. <br> cabin_missing is an indicator variable which takes value one in case cabin data is missing. <br> relatives is the number of relatives onboard, variable was generated by summing SibSp and Parch. <br>Age_poly2 and Age_poly3 are simply square and cube of Age variable. It was added as an interaction term. <br> Fare_Per_Person is simply Fare divided by number of relatives. <br> Male is a binary variable which is 1 if the passenger is male and 0 if the passenger is female. <br> Queenstown is a binary variable which is 1 if the traveller mounted from Queenstown and 0 if not.<br> Southampton is a binary variable which is 1 if the traveller mounted from Southampton and 0 if not. <br> If both Q and S are 0, then the passenger mounted from Cherbourg. <br> Variable second_class is also binary and it is 1 if the passenger has second class ticket and 0 if not. <br> Variable third_class is also binary and it is 1 if the passenger has third class ticket and 0 if not. <br> If both 2 and 3 are 0, then the passenger has first class ticket. <br> married_woman is a binary variable which is 1 if the traveller is a married woman and 0 if not. <br> alone is a binary variable which is 1 if the traveller did not have relatives onboard and 0 if he/she had at least one relative. <br> Other letters are the binary variables for the deck and it is 1 if the traveller has cabin in that deck and 0 if not."
   ]
  },
  {
   "cell_type": "code",
   "execution_count": 49,
   "id": "97db3204",
   "metadata": {
    "id": "97db3204"
   },
   "outputs": [],
   "source": [
    "from sklearn.model_selection import train_test_split\n",
    "X = train.drop('Survived',axis=1)\n",
    "y = train['Survived']\n",
    "y=y.astype('int')\n",
    "X_train, X_test, y_train, y_test = train_test_split(X, y, stratify=y)\n"
   ]
  },
  {
   "cell_type": "code",
   "execution_count": 50,
   "id": "93c4a05e",
   "metadata": {
    "id": "93c4a05e"
   },
   "outputs": [],
   "source": [
    "from sklearn.linear_model import LogisticRegression\n",
    "logreg = LogisticRegression()\n",
    "from sklearn import preprocessing\n",
    "X_train = preprocessing.scale(X_train)\n",
    "logreg.fit(X_train, y_train)\n",
    "X_test = preprocessing.scale(X_test)\n",
    "predictions = logreg.predict(X_test)"
   ]
  },
  {
   "cell_type": "code",
   "execution_count": 51,
   "id": "074853b1",
   "metadata": {
    "id": "074853b1",
    "outputId": "cf88ff04-69a0-4ca8-fe98-db41795b5657"
   },
   "outputs": [
    {
     "name": "stdout",
     "output_type": "stream",
     "text": [
      "              precision    recall  f1-score   support\n",
      "\n",
      "           0       0.83      0.85      0.84       137\n",
      "           1       0.76      0.72      0.74        86\n",
      "\n",
      "    accuracy                           0.80       223\n",
      "   macro avg       0.79      0.79      0.79       223\n",
      "weighted avg       0.80      0.80      0.80       223\n",
      "\n"
     ]
    }
   ],
   "source": [
    "from sklearn.metrics import classification_report, confusion_matrix\n",
    "print(classification_report(y_test, predictions))"
   ]
  },
  {
   "cell_type": "code",
   "execution_count": 52,
   "id": "1f545486",
   "metadata": {
    "id": "1f545486",
    "outputId": "bf9fce43-7290-4d49-c648-158884888676"
   },
   "outputs": [
    {
     "data": {
      "text/plain": [
       "<sklearn.metrics._plot.confusion_matrix.ConfusionMatrixDisplay at 0x2d1ac5c0d30>"
      ]
     },
     "execution_count": 52,
     "metadata": {},
     "output_type": "execute_result"
    },
    {
     "data": {
      "image/png": "[encoded data removed]",
      "text/plain": [
       "<Figure size 432x288 with 2 Axes>"
      ]
     },
     "metadata": {
      "needs_background": "light"
     },
     "output_type": "display_data"
    }
   ],
   "source": [
    "import matplotlib.pyplot as plt\n",
    "from sklearn.metrics import plot_confusion_matrix\n",
    "plot_confusion_matrix(logreg, X_test, y_test, cmap=plt.cm.Blues, normalize='pred')"
   ]
  },
  {
   "cell_type": "markdown",
   "id": "93c59ba5",
   "metadata": {
    "id": "93c59ba5"
   },
   "source": [
    "4. Check the balance of your classes. How many observations do you have in each class? Do you have a class imbalance? "
   ]
  },
  {
   "cell_type": "code",
   "execution_count": 53,
   "id": "75da2b8a",
   "metadata": {
    "id": "75da2b8a",
    "outputId": "72929db2-f032-4d80-904a-763612c1eb4a"
   },
   "outputs": [
    {
     "name": "stderr",
     "output_type": "stream",
     "text": [
      "D:\\anaconda\\lib\\site-packages\\seaborn\\_decorators.py:36: FutureWarning: Pass the following variable as a keyword arg: x. From version 0.12, the only valid positional argument will be `data`, and passing other arguments without an explicit keyword will result in an error or misinterpretation.\n",
      "  warnings.warn(\n"
     ]
    },
    {
     "data": {
      "text/plain": [
       "<AxesSubplot:xlabel='Survived', ylabel='count'>"
      ]
     },
     "execution_count": 53,
     "metadata": {},
     "output_type": "execute_result"
    },
    {
     "data": {
      "image/png": "[encoded data removed]",
      "text/plain": [
       "<Figure size 432x288 with 1 Axes>"
      ]
     },
     "metadata": {
      "needs_background": "light"
     },
     "output_type": "display_data"
    }
   ],
   "source": [
    "import seaborn as sns\n",
    "sns.countplot(y)"
   ]
  },
  {
   "cell_type": "markdown",
   "id": "a23f4eab",
   "metadata": {
    "id": "a23f4eab"
   },
   "source": [
    "The classes of the target show a some, albeit not extreme, imbalance."
   ]
  },
  {
   "cell_type": "markdown",
   "id": "e0fcff44",
   "metadata": {
    "id": "e0fcff44"
   },
   "source": [
    "5. What google/stack overflow search would you carry out to correct for class imbalance? (Yes, you should type the google search you did and copy-paste the link of the answer.) Correct potential class imbalance, if you think it’s important to do so. "
   ]
  },
  {
   "cell_type": "markdown",
   "id": "3bd1d06e",
   "metadata": {
    "id": "3bd1d06e"
   },
   "source": [
    "https://elitedatascience.com/imbalanced-classes"
   ]
  },
  {
   "cell_type": "code",
   "execution_count": 54,
   "id": "0bc76dfd",
   "metadata": {
    "id": "0bc76dfd",
    "outputId": "92e59ccb-5c45-4df2-a8ef-3bd499defd6f"
   },
   "outputs": [
    {
     "data": {
      "text/plain": [
       "0    549\n",
       "1    549\n",
       "Name: Survived, dtype: int64"
      ]
     },
     "execution_count": 54,
     "metadata": {},
     "output_type": "execute_result"
    }
   ],
   "source": [
    "from sklearn.utils import resample\n",
    "\n",
    "# Upsampling minority class\n",
    "\n",
    "# Separate majority and minority classes\n",
    "train_majority = train[train.Survived==0]\n",
    "train_minority = train[train.Survived==1]\n",
    " \n",
    "# Upsample minority class\n",
    "train_minority_upsampled = resample(train_minority, \n",
    "                                 replace=True,     # sample with replacement\n",
    "                                 n_samples=549,    # to match majority class\n",
    "                                 random_state=123) # reproducible results\n",
    " \n",
    "# Combine majority class with upsampled minority class\n",
    "train_upsampled = pd.concat([train_majority, train_minority_upsampled])\n",
    " \n",
    "# Display new class counts\n",
    "train_upsampled.Survived.value_counts()"
   ]
  },
  {
   "cell_type": "code",
   "execution_count": 55,
   "id": "dd261efd",
   "metadata": {
    "id": "dd261efd"
   },
   "outputs": [],
   "source": [
    "X = train_upsampled.drop('Survived',axis=1)\n",
    "y = train_upsampled['Survived']\n",
    "y=y.astype('int')\n",
    "X_train, X_test, y_train, y_test = train_test_split(X, y, stratify=y)"
   ]
  },
  {
   "cell_type": "code",
   "execution_count": 56,
   "id": "01055421",
   "metadata": {
    "id": "01055421"
   },
   "outputs": [],
   "source": [
    "from sklearn.linear_model import LogisticRegression\n",
    "logreg = LogisticRegression()\n",
    "from sklearn import preprocessing\n",
    "X_train = preprocessing.scale(X_train)\n",
    "logreg.fit(X_train, y_train)\n",
    "X_test = preprocessing.scale(X_test)\n",
    "predictions = logreg.predict(X_test)"
   ]
  },
  {
   "cell_type": "code",
   "execution_count": 57,
   "id": "c5503daa",
   "metadata": {
    "id": "c5503daa",
    "outputId": "2bd720e3-10f2-4de2-aba4-5c2b6cd5dc7c"
   },
   "outputs": [
    {
     "name": "stdout",
     "output_type": "stream",
     "text": [
      "              precision    recall  f1-score   support\n",
      "\n",
      "           0       0.78      0.82      0.80       138\n",
      "           1       0.81      0.77      0.79       137\n",
      "\n",
      "    accuracy                           0.79       275\n",
      "   macro avg       0.79      0.79      0.79       275\n",
      "weighted avg       0.79      0.79      0.79       275\n",
      "\n"
     ]
    }
   ],
   "source": [
    "from sklearn.metrics import classification_report, confusion_matrix\n",
    "print(classification_report(y_test, predictions))"
   ]
  },
  {
   "cell_type": "code",
   "execution_count": 58,
   "id": "c350bea0",
   "metadata": {
    "id": "c350bea0",
    "outputId": "8bd082a3-ce70-45ed-b772-b05fef6a3e40",
    "scrolled": false
   },
   "outputs": [
    {
     "data": {
      "text/plain": [
       "<sklearn.metrics._plot.confusion_matrix.ConfusionMatrixDisplay at 0x2d1acd5b8e0>"
      ]
     },
     "execution_count": 58,
     "metadata": {},
     "output_type": "execute_result"
    },
    {
     "data": {
      "image/png": "[encoded data removed]",
      "text/plain": [
       "<Figure size 432x288 with 2 Axes>"
      ]
     },
     "metadata": {
      "needs_background": "light"
     },
     "output_type": "display_data"
    }
   ],
   "source": [
    "import matplotlib.pyplot as plt\n",
    "from sklearn.metrics import plot_confusion_matrix\n",
    "plot_confusion_matrix(logreg, X_test, y_test, cmap=plt.cm.Blues, normalize='pred')"
   ]
  },
  {
   "cell_type": "code",
   "execution_count": 59,
   "id": "2539f3c6",
   "metadata": {
    "id": "2539f3c6"
   },
   "outputs": [],
   "source": [
    "# Downsampling minority class\n",
    "\n",
    "# Upsample minority class\n",
    "train_majority_downsampled = resample(train_majority, \n",
    "                                 replace=True,     # sample with replacement\n",
    "                                 n_samples=330,    # to match majority class\n",
    "                                 random_state=123) # reproducible results\n",
    " \n",
    "# Combine majority class with upsampled minority class\n",
    "train_downsampled = pd.concat([train_minority, train_majority_downsampled])\n",
    " \n",
    "# Display new class counts\n",
    "train_downsampled.Survived.value_counts()\n",
    "\n",
    "X = train_downsampled.drop('Survived',axis=1)\n",
    "y = train_downsampled['Survived']\n",
    "y=y.astype('int')\n",
    "X_train, X_test, y_train, y_test = train_test_split(X, y, stratify=y)\n",
    "\n",
    "logreg = LogisticRegression()"
   ]
  },
  {
   "cell_type": "code",
   "execution_count": 86,
   "id": "d8de3c76",
   "metadata": {
    "id": "d8de3c76"
   },
   "outputs": [
    {
     "name": "stdout",
     "output_type": "stream",
     "text": [
      "Training set score: 0.84\n",
      "Test set score: 0.78\n"
     ]
    }
   ],
   "source": [
    "X_train = preprocessing.scale(X_train)\n",
    "X_test = preprocessing.scale(X_test)\n",
    "logreg.fit(X_train, y_train)\n",
    "print (\"Training set score: {:.2f}\".format(logreg.score ( X_train , y_train )))\n",
    "print (\"Test set score: {:.2f}\".format (logreg.score(X_test , y_test ))) \n",
    "predictions = logreg.predict(X_test)"
   ]
  },
  {
   "cell_type": "code",
   "execution_count": 87,
   "id": "4efb4e11",
   "metadata": {
    "id": "4efb4e11",
    "outputId": "3c4a6340-de8e-4218-ad39-0b0972c5426a"
   },
   "outputs": [
    {
     "name": "stdout",
     "output_type": "stream",
     "text": [
      "              precision    recall  f1-score   support\n",
      "\n",
      "           0       0.75      0.81      0.78       113\n",
      "           1       0.81      0.75      0.78       123\n",
      "\n",
      "    accuracy                           0.78       236\n",
      "   macro avg       0.78      0.78      0.78       236\n",
      "weighted avg       0.78      0.78      0.78       236\n",
      "\n"
     ]
    }
   ],
   "source": [
    "print(classification_report(y_test, predictions))"
   ]
  },
  {
   "cell_type": "code",
   "execution_count": 88,
   "id": "c84b4648",
   "metadata": {
    "id": "c84b4648",
    "outputId": "7b2f8ebc-c8d2-4c1d-a3e4-af6244bf3567"
   },
   "outputs": [
    {
     "data": {
      "text/plain": [
       "<sklearn.metrics._plot.confusion_matrix.ConfusionMatrixDisplay at 0x2d1aec08bb0>"
      ]
     },
     "execution_count": 88,
     "metadata": {},
     "output_type": "execute_result"
    },
    {
     "data": {
      "image/png": "[encoded data removed]",
      "text/plain": [
       "<Figure size 432x288 with 2 Axes>"
      ]
     },
     "metadata": {
      "needs_background": "light"
     },
     "output_type": "display_data"
    }
   ],
   "source": [
    "plot_confusion_matrix(logreg, X_test, y_test, cmap=plt.cm.Blues, normalize='pred')"
   ]
  },
  {
   "cell_type": "markdown",
   "id": "cd71e830",
   "metadata": {
    "id": "cd71e830"
   },
   "source": [
    "Implementing upsampling on the minority class to correct for imbalance actually diminished the accuracy of the model, while downsampling the majority idnuced a minor increase in model accuracy"
   ]
  },
  {
   "cell_type": "markdown",
   "id": "f53a281e",
   "metadata": {
    "id": "f53a281e"
   },
   "source": [
    "6. Use Lasso and Ridge for regularization. Use cross-validation to select the tuning parameter."
   ]
  },
  {
   "cell_type": "code",
   "execution_count": 90,
   "id": "654da1b1",
   "metadata": {
    "id": "654da1b1",
    "outputId": "383f30ff-9a56-4d63-a3a5-5ba9055e61ef"
   },
   "outputs": [
    {
     "name": "stdout",
     "output_type": "stream",
     "text": [
      "Training set score: 0.83\n",
      "Test set score: 0.77\n"
     ]
    }
   ],
   "source": [
    "# Here we are implementing Ridge & Lasso using the train dataset with the downsampled majority class\n",
    "\n",
    "# Ridge\n",
    "from sklearn.linear_model import LinearRegression, Ridge, Lasso\n",
    "from sklearn.linear_model import RidgeClassifier\n",
    "\n",
    "ridge = RidgeClassifier() \n",
    "ridge.fit(X_train, y_train)\n",
    "print (\"Training set score: {:.2f}\".format(ridge.score (X_train , y_train )))\n",
    "print (\"Test set score: {:.2f}\".format (ridge.score(X_test , y_test ))) "
   ]
  },
  {
   "cell_type": "code",
   "execution_count": 91,
   "id": "ef8cf8af",
   "metadata": {},
   "outputs": [
    {
     "data": {
      "text/plain": [
       "array([[-0.44363192, -0.04197261, -0.04778421,  0.12830746, -0.16381235,\n",
       "        -0.0544363 ,  0.63837432, -0.33767757, -0.0550651 , -0.04927078,\n",
       "        -0.48968489,  0.04585664, -0.02189738, -0.05510688, -0.1616891 ,\n",
       "        -0.07474644, -0.06079977, -0.01035027, -0.01001667, -0.00923242,\n",
       "        -0.12654994, -0.04903192,  0.12272569,  0.00951539]])"
      ]
     },
     "execution_count": 91,
     "metadata": {},
     "output_type": "execute_result"
    }
   ],
   "source": [
    "ridge.coef_"
   ]
  },
  {
   "cell_type": "code",
   "execution_count": 94,
   "id": "c2d347b5",
   "metadata": {
    "id": "c2d347b5",
    "outputId": "ba912e09-d24c-41d8-f473-19d03e3d313c"
   },
   "outputs": [
    {
     "data": {
      "text/plain": [
       "Lasso()"
      ]
     },
     "execution_count": 94,
     "metadata": {},
     "output_type": "execute_result"
    }
   ],
   "source": [
    "# Lasso\n",
    "\n",
    "lasso = Lasso()\n",
    "lasso.fit(X_train, y_train) "
   ]
  },
  {
   "cell_type": "code",
   "execution_count": 95,
   "id": "b2ecbd09",
   "metadata": {
    "id": "b2ecbd09",
    "outputId": "9a2ac559-93a2-4f8f-e78b-e1d98d77cc3c"
   },
   "outputs": [
    {
     "name": "stdout",
     "output_type": "stream",
     "text": [
      "Training set score: 0.00\n",
      "Test set score: -0.00\n"
     ]
    }
   ],
   "source": [
    "print(\"Training set score: {:.2f}\".format(lasso.score(X_train, y_train))) \n",
    "print(\"Test set score: {:.2f}\".format (lasso.score(X_test, y_test)))"
   ]
  },
  {
   "cell_type": "code",
   "execution_count": 96,
   "id": "603d49c0",
   "metadata": {},
   "outputs": [],
   "source": [
    "import numpy as np"
   ]
  },
  {
   "cell_type": "code",
   "execution_count": 97,
   "id": "a0c2f541",
   "metadata": {
    "id": "a0c2f541",
    "outputId": "fd92dfcc-72ce-4271-edc1-4c37acd1a7d1"
   },
   "outputs": [
    {
     "name": "stdout",
     "output_type": "stream",
     "text": [
      "Number of features used: 0\n"
     ]
    }
   ],
   "source": [
    "print(\"Number of features used: {}\".format(np.sum(lasso.coef_ != 0 )) )"
   ]
  },
  {
   "cell_type": "code",
   "execution_count": 98,
   "id": "f33e4711",
   "metadata": {
    "id": "f33e4711",
    "outputId": "d4e6a07c-7b80-416f-aad3-082a92166cf8"
   },
   "outputs": [
    {
     "name": "stdout",
     "output_type": "stream",
     "text": [
      "Training set score: 0.47\n",
      "Test set score: 0.38\n",
      "Number of features used: 14\n"
     ]
    }
   ],
   "source": [
    "lasso001 = Lasso(alpha=0.01)\n",
    "lasso001.fit(X_train, y_train) \n",
    "print(\"Training set score: {:.2f}\".format(lasso001.score(X_train, y_train))) \n",
    "print(\"Test set score: {:.2f}\".format (lasso001.score(X_test, y_test)))\n",
    "print(\"Number of features used: {}\".format(np.sum(lasso001.coef_ != 0 )))"
   ]
  },
  {
   "cell_type": "code",
   "execution_count": 99,
   "id": "2d1b794a",
   "metadata": {},
   "outputs": [
    {
     "name": "stdout",
     "output_type": "stream",
     "text": [
      "Training set score: 0.00\n",
      "Test set score: -0.00\n",
      "Number of features used: 0\n"
     ]
    }
   ],
   "source": [
    "lasso10 = Lasso(alpha=10)\n",
    "lasso10.fit(X_train, y_train) \n",
    "print(\"Training set score: {:.2f}\".format(lasso10.score(X_train, y_train))) \n",
    "print(\"Test set score: {:.2f}\".format (lasso10.score(X_test, y_test)))\n",
    "print(\"Number of features used: {}\".format(np.sum(lasso10.coef_ != 0 )))"
   ]
  },
  {
   "cell_type": "code",
   "execution_count": 100,
   "id": "7c06ea8f",
   "metadata": {},
   "outputs": [
    {
     "data": {
      "text/plain": [
       "Text(0, 0.5, 'Coefficient magnitude')"
      ]
     },
     "execution_count": 100,
     "metadata": {},
     "output_type": "execute_result"
    },
    {
     "data": {
      "image/png": "[encoded data removed]",
      "text/plain": [
       "<Figure size 432x288 with 1 Axes>"
      ]
     },
     "metadata": {
      "needs_background": "light"
     },
     "output_type": "display_data"
    }
   ],
   "source": [
    "plt.plot(lasso.coef_ , 'o', color=\"gray\", alpha=0.3, label = \"Lasso alpha=1\" ) \n",
    "plt.plot(lasso001.coef_ , '^', color=\"blue\" , alpha=0.7, label = \"Lasso alpha=0.01\" ) \n",
    "plt.plot(lasso10.coef_ , 'v', color=\"orange\", alpha=0.8 , label = \"Lasso alpha=0.001\" )\n",
    "plt.ylim (-0.5 , 0.5 ) \n",
    "plt.xlabel(\"Coefficient index\" ) \n",
    "plt.ylabel (\"Coefficient magnitude\" ) \n"
   ]
  },
  {
   "cell_type": "code",
   "execution_count": 101,
   "id": "57c3b5ad",
   "metadata": {},
   "outputs": [
    {
     "name": "stderr",
     "output_type": "stream",
     "text": [
      "D:\\anaconda\\lib\\site-packages\\sklearn\\linear_model\\_coordinate_descent.py:530: ConvergenceWarning: Objective did not converge. You might want to increase the number of iterations. Duality gap: 1.3771219475861685, tolerance: 0.010899770642201826\n",
      "  model = cd_fast.enet_coordinate_descent(\n"
     ]
    }
   ],
   "source": [
    "alpha=[0.0001, 0.001, 0.01, 0.1, 0.5, 1, 10, 100, 1000]\n",
    "score=[]\n",
    "for i in alpha:\n",
    "    lasso = Lasso(alpha=i)\n",
    "    lasso.fit(X_train, y_train) \n",
    "    score.append(lasso.score(X_test, y_test))"
   ]
  },
  {
   "cell_type": "code",
   "execution_count": 102,
   "id": "6dbadf92",
   "metadata": {},
   "outputs": [
    {
     "data": {
      "image/png": "[encoded data removed]",
      "text/plain": [
       "<Figure size 432x288 with 1 Axes>"
      ]
     },
     "metadata": {
      "needs_background": "light"
     },
     "output_type": "display_data"
    }
   ],
   "source": [
    "plt.plot(alpha, score)\n",
    "plt.xscale(\"log\")"
   ]
  },
  {
   "cell_type": "markdown",
   "id": "e9eeec50",
   "metadata": {
    "id": "e9eeec50"
   },
   "source": [
    "7. Use your best model to generate predictions for test.csv. Identify features that are important for your best model. Which features are most influential, and which features could be removed without a decrease in performance? Does removing irrelevant features make your model better?"
   ]
  },
  {
   "cell_type": "code",
   "execution_count": null,
   "id": "56c720fe",
   "metadata": {
    "id": "56c720fe"
   },
   "outputs": [],
   "source": []
  }
 ],
 "metadata": {
  "colab": {
   "collapsed_sections": [],
   "name": "project1 M Vegh M Yerkanat.ipynb",
   "provenance": []
  },
  "kernelspec": {
   "display_name": "Python 3 (ipykernel)",
   "language": "python",
   "name": "python3"
  },
  "language_info": {
   "codemirror_mode": {
    "name": "ipython",
    "version": 3
   },
   "file_extension": ".py",
   "mimetype": "text/x-python",
   "name": "python",
   "nbconvert_exporter": "python",
   "pygments_lexer": "ipython3",
   "version": "3.9.7"
  }
 },
 "nbformat": 4,
 "nbformat_minor": 5
}
